{
 "cells": [
  {
   "cell_type": "markdown",
   "metadata": {},
   "source": [
    "# Conectando na conta da Bitmex via api "
   ]
  },
  {
   "cell_type": "code",
   "execution_count": null,
   "metadata": {},
   "outputs": [],
   "source": [
    "from bitmex import bitmex\n",
    "api_key = '' # Api key\n",
    "api_secret = '' # Api secret\n",
    "\n",
    "bitmex_cli = bitmex(test=False, api_key=api_key, api_secret=api_secret)"
   ]
  },
  {
   "cell_type": "code",
   "execution_count": null,
   "metadata": {},
   "outputs": [],
   "source": [
    "### Teste da api publica\n",
    "\n",
    "### ordens no book via get\n",
    "orderbook = bitmex_cli.OrderBook.OrderBook_getL2(symbol='XBTUSD', depth=20).result()\n",
    "print( orderbook )"
   ]
  },
  {
   "cell_type": "code",
   "execution_count": null,
   "metadata": {},
   "outputs": [],
   "source": [
    "### Teste de api provada ( precisa de chave e segredo de API )\n",
    "\n",
    "### get your orders\n",
    "orders = bitmex_cli.Order.Order_getOrders(symbol='XBTUSD', reverse=True).result()\n",
    "print( orders )"
   ]
  }
 ],
 "metadata": {
  "kernelspec": {
   "display_name": "Python 3",
   "language": "python",
   "name": "python3"
  },
  "language_info": {
   "codemirror_mode": {
    "name": "ipython",
    "version": 3
   },
   "file_extension": ".py",
   "mimetype": "text/x-python",
   "name": "python",
   "nbconvert_exporter": "python",
   "pygments_lexer": "ipython3",
   "version": "3.8.3"
  }
 },
 "nbformat": 4,
 "nbformat_minor": 4
}
