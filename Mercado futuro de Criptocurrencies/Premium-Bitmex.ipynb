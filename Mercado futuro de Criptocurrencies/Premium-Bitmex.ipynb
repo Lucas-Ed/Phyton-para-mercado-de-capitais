{
 "cells": [
  {
   "cell_type": "code",
   "execution_count": 1,
   "metadata": {},
   "outputs": [],
   "source": [
    "import requests\n",
    "import pandas as pd\n",
    "import numpy as np"
   ]
  },
  {
   "cell_type": "code",
   "execution_count": 2,
   "metadata": {},
   "outputs": [],
   "source": [
    "#Metodo para calcular premium dos contratos da bitmex\n",
    "def premium_mex(perp, futur, days):\n",
    "    perp = requests.get(f'https://www.bitmex.com/api/v1/trade?symbol={perp}&count=100&reverse=true').json()[0][\"price\"]\n",
    "    futur = requests.get(f'https://www.bitmex.com/api/v1/trade?symbol={futur}&count=100&reverse=true').json()[0][\"price\"]\n",
    "    tx = (futur / perp ) - 1\n",
    "    rsp = tx / days * 365\n",
    "    return f'{rsp * 100:.2f} %',f'{tx * 100:.2f} %', futur, perp"
   ]
  },
  {
   "cell_type": "code",
   "execution_count": 3,
   "metadata": {},
   "outputs": [
    {
     "data": {
      "text/plain": [
       "('-188.42 %', '-39.23 %', 7138.24, 11747)"
      ]
     },
     "execution_count": 3,
     "metadata": {},
     "output_type": "execute_result"
    }
   ],
   "source": [
    "premium_mex('XBT', 'XBTZ19', 76)"
   ]
  },
  {
   "cell_type": "code",
   "execution_count": 4,
   "metadata": {},
   "outputs": [
    {
     "data": {
      "text/plain": [
       "('-94.39 %', '-43.18 %', 6673.51, 11746)"
      ]
     },
     "execution_count": 4,
     "metadata": {},
     "output_type": "execute_result"
    }
   ],
   "source": [
    "premium_mex('XBT', 'XBTH20', 167)"
   ]
  }
 ],
 "metadata": {
  "kernelspec": {
   "display_name": "Python 3",
   "language": "python",
   "name": "python3"
  },
  "language_info": {
   "codemirror_mode": {
    "name": "ipython",
    "version": 3
   },
   "file_extension": ".py",
   "mimetype": "text/x-python",
   "name": "python",
   "nbconvert_exporter": "python",
   "pygments_lexer": "ipython3",
   "version": "3.8.3"
  }
 },
 "nbformat": 4,
 "nbformat_minor": 4
}
