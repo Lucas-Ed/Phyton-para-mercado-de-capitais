{
 "cells": [
  {
   "cell_type": "code",
   "execution_count": 2,
   "metadata": {},
   "outputs": [],
   "source": [
    "#importando as blibiotecas\n",
    "import os\n",
    "from binance.client import Client"
   ]
  },
  {
   "cell_type": "code",
   "execution_count": 6,
   "metadata": {},
   "outputs": [],
   "source": [
    "# início\n",
    "api_key = os.environ.get('Chave da Api')\n",
    "api_secret = os.environ.get('Chave secreta da Api')"
   ]
  },
  {
   "cell_type": "code",
   "execution_count": 8,
   "metadata": {},
   "outputs": [],
   "source": [
    "client = Client('Chave da Api','Chave secreta da Api')"
   ]
  },
  {
   "cell_type": "code",
   "execution_count": 10,
   "metadata": {},
   "outputs": [
    {
     "name": "stdout",
     "output_type": "stream",
     "text": [
      "{'symbol': 'BTCUSDT', 'price': '11503.32000000'}\n",
      "11503.32000000\n"
     ]
    }
   ],
   "source": [
    "## a Principal\n",
    "# obter o preço mais recente da API Binance\n",
    "btc_price = client.get_symbol_ticker(symbol='BTCUSDT')\n",
    "# imprimir saída completa (dicionário)\n",
    "print(btc_price)\n",
    "# imprimindo o preço\n",
    "print(btc_price['price'])"
   ]
  }
 ],
 "metadata": {
  "kernelspec": {
   "display_name": "Python 3",
   "language": "python",
   "name": "python3"
  },
  "language_info": {
   "codemirror_mode": {
    "name": "ipython",
    "version": 3
   },
   "file_extension": ".py",
   "mimetype": "text/x-python",
   "name": "python",
   "nbconvert_exporter": "python",
   "pygments_lexer": "ipython3",
   "version": "3.8.5"
  }
 },
 "nbformat": 4,
 "nbformat_minor": 4
}
