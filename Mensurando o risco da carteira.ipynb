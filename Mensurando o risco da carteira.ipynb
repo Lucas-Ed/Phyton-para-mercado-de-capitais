{
 "cells": [
  {
   "cell_type": "code",
   "execution_count": 1,
   "id": "c9de3480",
   "metadata": {},
   "outputs": [],
   "source": [
    "# importando blibliotecas\n",
    "from pandas_datareader import data as web\n",
    "import pandas as pd\n",
    "import numpy as np\n",
    "import yfinance as yf\n",
    "import yfinance"
   ]
  },
  {
   "cell_type": "code",
   "execution_count": 2,
   "id": "53536c8b",
   "metadata": {},
   "outputs": [
    {
     "name": "stdout",
     "output_type": "stream",
     "text": [
      "[*********************100%***********************]  1 of 1 completed\n",
      "[*********************100%***********************]  1 of 1 completed\n",
      "[*********************100%***********************]  1 of 1 completed\n",
      "[*********************100%***********************]  1 of 1 completed\n",
      "[*********************100%***********************]  1 of 1 completed\n",
      "A variação do portifólio é: 17.47%, O risco da carteira é: 41.8%\n"
     ]
    }
   ],
   "source": [
    "ativos =  ['HBOR3.SA','CPLE6.SA','SAPR4.SA','VVAR3.SA','NEOE3.SA'] \n",
    "\n",
    "df = pd.DataFrame()  \n",
    "\n",
    "for stock in ativos:\n",
    "    df[stock] = yf.download(stock, data_source='yahoo',\n",
    "                               start='2018-09-04' , end='2021-09-04')['Adj Close']\n",
    "d_returns = df.pct_change()  \n",
    "\n",
    "cov_matrix_d = d_returns.cov()\n",
    "cov_matrix_a = cov_matrix_d * 250\n",
    "\n",
    "weights = np.array([ 0.2, 0.2, 0.2, 0.2,  0.2])  # atribuir pesos \n",
    "\n",
    "# calcular a variância e o risco do portifolio\n",
    "port_variance = np.dot(weights.T, np.dot(cov_matrix_a, weights))\n",
    "port_volatility = np.sqrt(np.dot(weights.T, np.dot(cov_matrix_a, weights)))\n",
    "\n",
    "percent_var = str(round(port_variance, 4) * 100) + '%'\n",
    "percent_vols = str(round(port_volatility, 4) * 100) + '%'\n",
    "\n",
    "print('A variação do portifólio é: {}, O risco da carteira é: {}'  \n",
    "      .format(percent_var, percent_vols))"
   ]
  }
 ],
 "metadata": {
  "kernelspec": {
   "display_name": "Python 3",
   "language": "python",
   "name": "python3"
  },
  "language_info": {
   "codemirror_mode": {
    "name": "ipython",
    "version": 3
   },
   "file_extension": ".py",
   "mimetype": "text/x-python",
   "name": "python",
   "nbconvert_exporter": "python",
   "pygments_lexer": "ipython3",
   "version": "3.9.5"
  }
 },
 "nbformat": 4,
 "nbformat_minor": 5
}
